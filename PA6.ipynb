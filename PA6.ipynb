{
 "cells": [
  {
   "cell_type": "markdown",
   "id": "bcfa6d56",
   "metadata": {},
   "source": [
    "# PA6\n",
    "\n",
    "## Shealyn Arthur\n",
    "\n",
    "### CS-150-01 SP2023\n",
    "\n",
    "### Version 1\n"
   ]
  },
  {
   "cell_type": "markdown",
   "id": "869a0c47",
   "metadata": {},
   "source": [
    "#### 1. "
   ]
  },
  {
   "cell_type": "code",
   "execution_count": 5,
   "id": "4ebc6001",
   "metadata": {},
   "outputs": [
    {
     "name": "stdout",
     "output_type": "stream",
     "text": [
      "Enter the length of side A: 2\n",
      "Enter the length of side B: 2\n",
      "Enter the length of side C: 2\n",
      "The area of the triangle is approximately 1.7320508075688772 square units.\n",
      "The perimeter of the triangle is None linear units.\n"
     ]
    }
   ],
   "source": [
    "import math\n",
    "def calcArea(A,B,C):\n",
    "    s=(A+B+C)/2\n",
    "    area=math.sqrt(s*(s-A)*(s-B)*(s-C))\n",
    "    return area\n",
    "def calcPeri(A,B,C):\n",
    "    peri=A+B+C\n",
    "    \n",
    "A=int(input(\"Enter the length of side A: \"))\n",
    "B=int(input(\"Enter the length of side B: \"))\n",
    "C=int(input(\"Enter the length of side C: \"))\n",
    "\n",
    "area=calcArea(A,B,C)\n",
    "peri=calcPeri(A,B,C)\n",
    "\n",
    "print(f\"The area of the triangle is approximately {area} square units.\")\n",
    "print(f\"The perimeter of the triangle is {peri} linear units.\")"
   ]
  },
  {
   "cell_type": "markdown",
   "id": "7e3b642f",
   "metadata": {},
   "source": [
    "#### 2."
   ]
  },
  {
   "cell_type": "code",
   "execution_count": 10,
   "id": "7bbfb67a",
   "metadata": {},
   "outputs": [
    {
     "name": "stdout",
     "output_type": "stream",
     "text": [
      "Guess a number between 1 and 1000: 5\n",
      "Too low! Guess again.\n",
      "Guess a number between 1 and 1000: 500\n",
      "Too high! Guess again.\n",
      "Guess a number between 1 and 1000: 300\n",
      "Too high! Guess again.\n",
      "Guess a number between 1 and 1000: 250\n",
      "Too high! Guess again.\n",
      "Guess a number between 1 and 1000: 150\n",
      "Too low! Guess again.\n",
      "Guess a number between 1 and 1000: 175\n",
      "Too high! Guess again.\n",
      "Guess a number between 1 and 1000: 155\n",
      "Too low! Guess again.\n",
      "Guess a number between 1 and 1000: 165\n",
      "Too high! Guess again.\n",
      "Guess a number between 1 and 1000: 160\n",
      "Too high! Guess again.\n",
      "Guess a number between 1 and 1000: 157\n",
      "Too low! Guess again.\n",
      "Guess a number between 1 and 1000: 158\n",
      "Correct!\n"
     ]
    }
   ],
   "source": [
    "import random\n",
    "def evaluateGuess(guess, number):\n",
    "    if guess>number:\n",
    "        return \"Too high! Guess again.\"\n",
    "    elif guess<number:\n",
    "        return \"Too low! Guess again.\"\n",
    "    else:\n",
    "        return \"Correct!\"\n",
    "number=random.randint(1,1000)\n",
    "while True:\n",
    "    guess=int(input(\"Guess a number between 1 and 1000: \"))\n",
    "    result=evaluateGuess(guess, number)\n",
    "    if result==\"Correct!\":\n",
    "        break\n",
    "    print(result)\n",
    "print(\"Correct!\")"
   ]
  },
  {
   "cell_type": "markdown",
   "id": "e5ae00c0",
   "metadata": {},
   "source": [
    "#### 3."
   ]
  },
  {
   "cell_type": "code",
   "execution_count": 9,
   "id": "9db7d411",
   "metadata": {},
   "outputs": [
    {
     "name": "stdout",
     "output_type": "stream",
     "text": [
      "The mean temperature for the past 7 days is 43.857142857142854 degrees F.\n"
     ]
    }
   ],
   "source": [
    "def meanTemp(temps):\n",
    "    total=0 \n",
    "    days=0\n",
    "    \n",
    "    for i in temps:\n",
    "        days+=1\n",
    "        total+=i\n",
    "    meanF=total/days\n",
    "    return days,meanF\n",
    "\n",
    "temperatures=[43,36,53,62,28,46,39]\n",
    "days,meanF=meanTemp(temperatures)\n",
    "print(f\"The mean temperature for the past {days} days is {meanF} degrees F.\")"
   ]
  }
 ],
 "metadata": {
  "kernelspec": {
   "display_name": "Python 3 (ipykernel)",
   "language": "python",
   "name": "python3"
  },
  "language_info": {
   "codemirror_mode": {
    "name": "ipython",
    "version": 3
   },
   "file_extension": ".py",
   "mimetype": "text/x-python",
   "name": "python",
   "nbconvert_exporter": "python",
   "pygments_lexer": "ipython3",
   "version": "3.9.13"
  }
 },
 "nbformat": 4,
 "nbformat_minor": 5
}
